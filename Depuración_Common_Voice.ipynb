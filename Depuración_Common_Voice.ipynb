{
  "nbformat": 4,
  "nbformat_minor": 0,
  "metadata": {
    "colab": {
      "name": "Depuración Common Voice.ipynb",
      "provenance": [],
      "collapsed_sections": [],
      "toc_visible": true,
      "authorship_tag": "ABX9TyN3F0J8mNciaLR/QKBqaNrt",
      "include_colab_link": true
    },
    "kernelspec": {
      "name": "python3",
      "display_name": "Python 3"
    }
  },
  "cells": [
    {
      "cell_type": "markdown",
      "metadata": {
        "id": "view-in-github",
        "colab_type": "text"
      },
      "source": [
        "<a href=\"https://colab.research.google.com/github/amontenegrot/Vowels-project/blob/main/Depuraci%C3%B3n_Common_Voice.ipynb\" target=\"_parent\"><img src=\"https://colab.research.google.com/assets/colab-badge.svg\" alt=\"Open In Colab\"/></a>"
      ]
    },
    {
      "cell_type": "markdown",
      "metadata": {
        "id": "vSdB-Fa6_Bli"
      },
      "source": [
        "# Librerías"
      ]
    },
    {
      "cell_type": "code",
      "metadata": {
        "id": "K70FvEq6UbZf"
      },
      "source": [
        "import pandas as pd\n",
        "import numpy as np"
      ],
      "execution_count": null,
      "outputs": []
    },
    {
      "cell_type": "markdown",
      "metadata": {
        "id": "NYsr-ZJ42l7I"
      },
      "source": [
        "##Lectura de datos"
      ]
    },
    {
      "cell_type": "code",
      "metadata": {
        "id": "HR5H8_70VZ-6"
      },
      "source": [
        "df = pd.read_csv('dev.tsv',sep='\\t',header=0)\n",
        "dfPre = df.drop(['client_id'], axis=1)"
      ],
      "execution_count": null,
      "outputs": []
    },
    {
      "cell_type": "code",
      "metadata": {
        "id": "Tf0GNxJz00FV"
      },
      "source": [
        "def ContadorVocalA(cadena):\n",
        "  ocurrencias1 = cadena.count('a')\n",
        "  ocurrencias2 = cadena.count('á')\n",
        "  ocurrencias3 = cadena.count('A')\n",
        "  ocurrencias4 = cadena.count('Á')\n",
        "  return int(ocurrencias1 + ocurrencias2 + ocurrencias3 + ocurrencias4)\n",
        "\n",
        "def ContadorVocalE(cadena):\n",
        "  ocurrencias1 = cadena.count('e')\n",
        "  ocurrencias2 = cadena.count('é')\n",
        "  ocurrencias3 = cadena.count('E')\n",
        "  ocurrencias4 = cadena.count('É')\n",
        "  return int(ocurrencias1 + ocurrencias2 + ocurrencias3 + ocurrencias4)\n",
        "\n",
        "def ContadorVocalI(cadena):\n",
        "  ocurrencias1 = cadena.count('i')\n",
        "  ocurrencias2 = cadena.count('í')\n",
        "  ocurrencias3 = cadena.count('I')\n",
        "  ocurrencias4 = cadena.count('Í')\n",
        "  return int(ocurrencias1 + ocurrencias2 + ocurrencias3 + ocurrencias4)\n",
        "\n",
        "def ContadorVocalO(cadena):\n",
        "  ocurrencias1 = cadena.count('o')\n",
        "  ocurrencias2 = cadena.count('ó')\n",
        "  ocurrencias3 = cadena.count('O')\n",
        "  ocurrencias4 = cadena.count('Ó')\n",
        "  return int(ocurrencias1 + ocurrencias2 + ocurrencias3 + ocurrencias4)\n",
        "\n",
        "def ContadorVocalU(cadena):\n",
        "  ocurrencias1 = cadena.count('u')\n",
        "  ocurrencias2 = cadena.count('ú')\n",
        "  ocurrencias3 = cadena.count('U')\n",
        "  ocurrencias4 = cadena.count('Ú')\n",
        "  return int(ocurrencias1 + ocurrencias2 + ocurrencias3 + ocurrencias4)"
      ],
      "execution_count": null,
      "outputs": []
    },
    {
      "cell_type": "markdown",
      "metadata": {
        "id": "7CC38ezq_Jdy"
      },
      "source": [
        "#Exploración de datos"
      ]
    },
    {
      "cell_type": "code",
      "metadata": {
        "id": "uZwQM2mpaLPX",
        "colab": {
          "base_uri": "https://localhost:8080/",
          "height": 839
        },
        "outputId": "b1e97f72-4846-4faa-c7e7-6f1ace283add"
      },
      "source": [
        "dfPre#.head()"
      ],
      "execution_count": null,
      "outputs": [
        {
          "output_type": "execute_result",
          "data": {
            "text/html": [
              "<div>\n",
              "<style scoped>\n",
              "    .dataframe tbody tr th:only-of-type {\n",
              "        vertical-align: middle;\n",
              "    }\n",
              "\n",
              "    .dataframe tbody tr th {\n",
              "        vertical-align: top;\n",
              "    }\n",
              "\n",
              "    .dataframe thead th {\n",
              "        text-align: right;\n",
              "    }\n",
              "</style>\n",
              "<table border=\"1\" class=\"dataframe\">\n",
              "  <thead>\n",
              "    <tr style=\"text-align: right;\">\n",
              "      <th></th>\n",
              "      <th>path</th>\n",
              "      <th>sentence</th>\n",
              "      <th>up_votes</th>\n",
              "      <th>down_votes</th>\n",
              "      <th>age</th>\n",
              "      <th>gender</th>\n",
              "      <th>accent</th>\n",
              "    </tr>\n",
              "  </thead>\n",
              "  <tbody>\n",
              "    <tr>\n",
              "      <th>0</th>\n",
              "      <td>common_voice_es_19746113.mp3</td>\n",
              "      <td>Su auge se dio con el cambio de siglo.</td>\n",
              "      <td>2</td>\n",
              "      <td>0</td>\n",
              "      <td>NaN</td>\n",
              "      <td>NaN</td>\n",
              "      <td>NaN</td>\n",
              "    </tr>\n",
              "    <tr>\n",
              "      <th>1</th>\n",
              "      <td>common_voice_es_19746114.mp3</td>\n",
              "      <td>Es originario del oeste de África tropical y d...</td>\n",
              "      <td>2</td>\n",
              "      <td>1</td>\n",
              "      <td>NaN</td>\n",
              "      <td>NaN</td>\n",
              "      <td>NaN</td>\n",
              "    </tr>\n",
              "    <tr>\n",
              "      <th>2</th>\n",
              "      <td>common_voice_es_19746115.mp3</td>\n",
              "      <td>Actualmente milita en el club Oriente Petroler...</td>\n",
              "      <td>2</td>\n",
              "      <td>0</td>\n",
              "      <td>NaN</td>\n",
              "      <td>NaN</td>\n",
              "      <td>NaN</td>\n",
              "    </tr>\n",
              "    <tr>\n",
              "      <th>3</th>\n",
              "      <td>common_voice_es_19746116.mp3</td>\n",
              "      <td>La voz es de gran belleza y amplia.</td>\n",
              "      <td>2</td>\n",
              "      <td>0</td>\n",
              "      <td>NaN</td>\n",
              "      <td>NaN</td>\n",
              "      <td>NaN</td>\n",
              "    </tr>\n",
              "    <tr>\n",
              "      <th>4</th>\n",
              "      <td>common_voice_es_19746117.mp3</td>\n",
              "      <td>Tiene notables colecciones arqueológicas y etn...</td>\n",
              "      <td>2</td>\n",
              "      <td>0</td>\n",
              "      <td>NaN</td>\n",
              "      <td>NaN</td>\n",
              "      <td>NaN</td>\n",
              "    </tr>\n",
              "    <tr>\n",
              "      <th>...</th>\n",
              "      <td>...</td>\n",
              "      <td>...</td>\n",
              "      <td>...</td>\n",
              "      <td>...</td>\n",
              "      <td>...</td>\n",
              "      <td>...</td>\n",
              "      <td>...</td>\n",
              "    </tr>\n",
              "    <tr>\n",
              "      <th>13216</th>\n",
              "      <td>common_voice_es_18310103.mp3</td>\n",
              "      <td>\" la Dalila \" continuaba anclada bajo el Casti...</td>\n",
              "      <td>3</td>\n",
              "      <td>0</td>\n",
              "      <td>NaN</td>\n",
              "      <td>NaN</td>\n",
              "      <td>NaN</td>\n",
              "    </tr>\n",
              "    <tr>\n",
              "      <th>13217</th>\n",
              "      <td>common_voice_es_18310105.mp3</td>\n",
              "      <td>A caballo regalado no le mires el dentado.</td>\n",
              "      <td>3</td>\n",
              "      <td>0</td>\n",
              "      <td>NaN</td>\n",
              "      <td>NaN</td>\n",
              "      <td>NaN</td>\n",
              "    </tr>\n",
              "    <tr>\n",
              "      <th>13218</th>\n",
              "      <td>common_voice_es_18310110.mp3</td>\n",
              "      <td>A Dios rogando y con el mazo dando.</td>\n",
              "      <td>3</td>\n",
              "      <td>0</td>\n",
              "      <td>NaN</td>\n",
              "      <td>NaN</td>\n",
              "      <td>NaN</td>\n",
              "    </tr>\n",
              "    <tr>\n",
              "      <th>13219</th>\n",
              "      <td>common_voice_es_18310112.mp3</td>\n",
              "      <td>A mala cama, colchón de vino.</td>\n",
              "      <td>3</td>\n",
              "      <td>0</td>\n",
              "      <td>NaN</td>\n",
              "      <td>NaN</td>\n",
              "      <td>NaN</td>\n",
              "    </tr>\n",
              "    <tr>\n",
              "      <th>13220</th>\n",
              "      <td>common_voice_es_18370974.mp3</td>\n",
              "      <td>El kilómetro cero está en Sol.</td>\n",
              "      <td>2</td>\n",
              "      <td>1</td>\n",
              "      <td>thirties</td>\n",
              "      <td>male</td>\n",
              "      <td>centrosurpeninsular</td>\n",
              "    </tr>\n",
              "  </tbody>\n",
              "</table>\n",
              "<p>13221 rows × 7 columns</p>\n",
              "</div>"
            ],
            "text/plain": [
              "                               path  ...               accent\n",
              "0      common_voice_es_19746113.mp3  ...                  NaN\n",
              "1      common_voice_es_19746114.mp3  ...                  NaN\n",
              "2      common_voice_es_19746115.mp3  ...                  NaN\n",
              "3      common_voice_es_19746116.mp3  ...                  NaN\n",
              "4      common_voice_es_19746117.mp3  ...                  NaN\n",
              "...                             ...  ...                  ...\n",
              "13216  common_voice_es_18310103.mp3  ...                  NaN\n",
              "13217  common_voice_es_18310105.mp3  ...                  NaN\n",
              "13218  common_voice_es_18310110.mp3  ...                  NaN\n",
              "13219  common_voice_es_18310112.mp3  ...                  NaN\n",
              "13220  common_voice_es_18370974.mp3  ...  centrosurpeninsular\n",
              "\n",
              "[13221 rows x 7 columns]"
            ]
          },
          "metadata": {
            "tags": []
          },
          "execution_count": 4
        }
      ]
    },
    {
      "cell_type": "code",
      "metadata": {
        "id": "F9cDgfS9gJDL",
        "colab": {
          "base_uri": "https://localhost:8080/"
        },
        "outputId": "e7fc15b4-1f5a-4d39-e329-a14730ae938d"
      },
      "source": [
        "#Resumen: repeticiones de distintos valores presentes en la columna 'up_votes'\n",
        "dfPre['up_votes'].value_counts(dropna=False)"
      ],
      "execution_count": null,
      "outputs": [
        {
          "output_type": "execute_result",
          "data": {
            "text/plain": [
              "2    12654\n",
              "3      544\n",
              "4       23\n",
              "Name: up_votes, dtype: int64"
            ]
          },
          "metadata": {
            "tags": []
          },
          "execution_count": 5
        }
      ]
    },
    {
      "cell_type": "code",
      "metadata": {
        "id": "8vJ-BTfCyna0",
        "colab": {
          "base_uri": "https://localhost:8080/"
        },
        "outputId": "b0666ddb-2172-40db-d4a1-5451f05d61cc"
      },
      "source": [
        "dfPre['accent'].value_counts(dropna=False)"
      ],
      "execution_count": null,
      "outputs": [
        {
          "output_type": "execute_result",
          "data": {
            "text/plain": [
              "NaN                    10608\n",
              "mexicano                 704\n",
              "andino                   417\n",
              "rioplatense              321\n",
              "nortepeninsular          228\n",
              "americacentral           215\n",
              "centrosurpeninsular      201\n",
              "chileno                  196\n",
              "caribe                   192\n",
              "surpeninsular            112\n",
              "canario                   27\n",
              "Name: accent, dtype: int64"
            ]
          },
          "metadata": {
            "tags": []
          },
          "execution_count": 6
        }
      ]
    },
    {
      "cell_type": "markdown",
      "metadata": {
        "id": "Wad064UPBIU6"
      },
      "source": [
        "#Preprocesamiento"
      ]
    },
    {
      "cell_type": "code",
      "metadata": {
        "id": "cQouXlzjvZQb",
        "colab": {
          "base_uri": "https://localhost:8080/",
          "height": 250
        },
        "outputId": "b4565d77-26d9-4250-ce71-6eefea594675"
      },
      "source": [
        "#Filtros: audios sin votos en contra y con mayor votación (3 o 4 votos a favor)\n",
        "dfPreFil = dfPre[(dfPre['down_votes']==0)&(dfPre['up_votes']>=3)]\n",
        "\n",
        "dfPreFil.head()"
      ],
      "execution_count": null,
      "outputs": [
        {
          "output_type": "execute_result",
          "data": {
            "text/html": [
              "<div>\n",
              "<style scoped>\n",
              "    .dataframe tbody tr th:only-of-type {\n",
              "        vertical-align: middle;\n",
              "    }\n",
              "\n",
              "    .dataframe tbody tr th {\n",
              "        vertical-align: top;\n",
              "    }\n",
              "\n",
              "    .dataframe thead th {\n",
              "        text-align: right;\n",
              "    }\n",
              "</style>\n",
              "<table border=\"1\" class=\"dataframe\">\n",
              "  <thead>\n",
              "    <tr style=\"text-align: right;\">\n",
              "      <th></th>\n",
              "      <th>path</th>\n",
              "      <th>sentence</th>\n",
              "      <th>up_votes</th>\n",
              "      <th>down_votes</th>\n",
              "      <th>age</th>\n",
              "      <th>gender</th>\n",
              "      <th>accent</th>\n",
              "    </tr>\n",
              "  </thead>\n",
              "  <tbody>\n",
              "    <tr>\n",
              "      <th>24</th>\n",
              "      <td>common_voice_es_19613838.mp3</td>\n",
              "      <td>Fueron reemplazados por Jeanette Jurado y Gioi...</td>\n",
              "      <td>3</td>\n",
              "      <td>0</td>\n",
              "      <td>NaN</td>\n",
              "      <td>NaN</td>\n",
              "      <td>NaN</td>\n",
              "    </tr>\n",
              "    <tr>\n",
              "      <th>123</th>\n",
              "      <td>common_voice_es_19711369.mp3</td>\n",
              "      <td>Es originaria de Guyana.</td>\n",
              "      <td>3</td>\n",
              "      <td>0</td>\n",
              "      <td>NaN</td>\n",
              "      <td>NaN</td>\n",
              "      <td>NaN</td>\n",
              "    </tr>\n",
              "    <tr>\n",
              "      <th>152</th>\n",
              "      <td>common_voice_es_19637716.mp3</td>\n",
              "      <td>Estuvo casado con Iris Barraza, con quien tuvo...</td>\n",
              "      <td>3</td>\n",
              "      <td>0</td>\n",
              "      <td>NaN</td>\n",
              "      <td>NaN</td>\n",
              "      <td>NaN</td>\n",
              "    </tr>\n",
              "    <tr>\n",
              "      <th>164</th>\n",
              "      <td>common_voice_es_18334123.mp3</td>\n",
              "      <td>vamos , amigo . vamos .</td>\n",
              "      <td>3</td>\n",
              "      <td>0</td>\n",
              "      <td>teens</td>\n",
              "      <td>NaN</td>\n",
              "      <td>NaN</td>\n",
              "    </tr>\n",
              "    <tr>\n",
              "      <th>180</th>\n",
              "      <td>common_voice_es_19745846.mp3</td>\n",
              "      <td>Los miembros tiene un color gris, más obscuro ...</td>\n",
              "      <td>3</td>\n",
              "      <td>0</td>\n",
              "      <td>NaN</td>\n",
              "      <td>NaN</td>\n",
              "      <td>NaN</td>\n",
              "    </tr>\n",
              "  </tbody>\n",
              "</table>\n",
              "</div>"
            ],
            "text/plain": [
              "                             path  ... accent\n",
              "24   common_voice_es_19613838.mp3  ...    NaN\n",
              "123  common_voice_es_19711369.mp3  ...    NaN\n",
              "152  common_voice_es_19637716.mp3  ...    NaN\n",
              "164  common_voice_es_18334123.mp3  ...    NaN\n",
              "180  common_voice_es_19745846.mp3  ...    NaN\n",
              "\n",
              "[5 rows x 7 columns]"
            ]
          },
          "metadata": {
            "tags": []
          },
          "execution_count": 7
        }
      ]
    },
    {
      "cell_type": "code",
      "metadata": {
        "id": "sSBG6Eixy4Sh",
        "colab": {
          "base_uri": "https://localhost:8080/"
        },
        "outputId": "7626a287-6d84-4bab-fcea-2fc2b2b7db0b"
      },
      "source": [
        "dfPreFil['accent'].value_counts(dropna=False)"
      ],
      "execution_count": null,
      "outputs": [
        {
          "output_type": "execute_result",
          "data": {
            "text/plain": [
              "NaN                    333\n",
              "mexicano                25\n",
              "andino                  10\n",
              "rioplatense              9\n",
              "caribe                   6\n",
              "centrosurpeninsular      5\n",
              "americacentral           4\n",
              "nortepeninsular          4\n",
              "surpeninsular            3\n",
              "chileno                  2\n",
              "canario                  1\n",
              "Name: accent, dtype: int64"
            ]
          },
          "metadata": {
            "tags": []
          },
          "execution_count": 8
        }
      ]
    },
    {
      "cell_type": "markdown",
      "metadata": {
        "id": "XxH2KqBuCyho"
      },
      "source": [
        "#Análisis"
      ]
    },
    {
      "cell_type": "code",
      "metadata": {
        "id": "A8vPnyNk6wLm",
        "colab": {
          "base_uri": "https://localhost:8080/",
          "height": 407
        },
        "outputId": "5921fdcc-c928-4fa8-edde-4c65d679ae87"
      },
      "source": [
        "dfVocales = pd.DataFrame()\n",
        "\n",
        "dfVocales['Audio'] = dfPreFil['path']\n",
        "#dfVocales['Oracion'] = dfPreFil['sentence']\n",
        "\n",
        "dfVocales"
      ],
      "execution_count": null,
      "outputs": [
        {
          "output_type": "execute_result",
          "data": {
            "text/html": [
              "<div>\n",
              "<style scoped>\n",
              "    .dataframe tbody tr th:only-of-type {\n",
              "        vertical-align: middle;\n",
              "    }\n",
              "\n",
              "    .dataframe tbody tr th {\n",
              "        vertical-align: top;\n",
              "    }\n",
              "\n",
              "    .dataframe thead th {\n",
              "        text-align: right;\n",
              "    }\n",
              "</style>\n",
              "<table border=\"1\" class=\"dataframe\">\n",
              "  <thead>\n",
              "    <tr style=\"text-align: right;\">\n",
              "      <th></th>\n",
              "      <th>Audio</th>\n",
              "    </tr>\n",
              "  </thead>\n",
              "  <tbody>\n",
              "    <tr>\n",
              "      <th>24</th>\n",
              "      <td>common_voice_es_19613838.mp3</td>\n",
              "    </tr>\n",
              "    <tr>\n",
              "      <th>123</th>\n",
              "      <td>common_voice_es_19711369.mp3</td>\n",
              "    </tr>\n",
              "    <tr>\n",
              "      <th>152</th>\n",
              "      <td>common_voice_es_19637716.mp3</td>\n",
              "    </tr>\n",
              "    <tr>\n",
              "      <th>164</th>\n",
              "      <td>common_voice_es_18334123.mp3</td>\n",
              "    </tr>\n",
              "    <tr>\n",
              "      <th>180</th>\n",
              "      <td>common_voice_es_19745846.mp3</td>\n",
              "    </tr>\n",
              "    <tr>\n",
              "      <th>...</th>\n",
              "      <td>...</td>\n",
              "    </tr>\n",
              "    <tr>\n",
              "      <th>13148</th>\n",
              "      <td>common_voice_es_19656967.mp3</td>\n",
              "    </tr>\n",
              "    <tr>\n",
              "      <th>13216</th>\n",
              "      <td>common_voice_es_18310103.mp3</td>\n",
              "    </tr>\n",
              "    <tr>\n",
              "      <th>13217</th>\n",
              "      <td>common_voice_es_18310105.mp3</td>\n",
              "    </tr>\n",
              "    <tr>\n",
              "      <th>13218</th>\n",
              "      <td>common_voice_es_18310110.mp3</td>\n",
              "    </tr>\n",
              "    <tr>\n",
              "      <th>13219</th>\n",
              "      <td>common_voice_es_18310112.mp3</td>\n",
              "    </tr>\n",
              "  </tbody>\n",
              "</table>\n",
              "<p>402 rows × 1 columns</p>\n",
              "</div>"
            ],
            "text/plain": [
              "                              Audio\n",
              "24     common_voice_es_19613838.mp3\n",
              "123    common_voice_es_19711369.mp3\n",
              "152    common_voice_es_19637716.mp3\n",
              "164    common_voice_es_18334123.mp3\n",
              "180    common_voice_es_19745846.mp3\n",
              "...                             ...\n",
              "13148  common_voice_es_19656967.mp3\n",
              "13216  common_voice_es_18310103.mp3\n",
              "13217  common_voice_es_18310105.mp3\n",
              "13218  common_voice_es_18310110.mp3\n",
              "13219  common_voice_es_18310112.mp3\n",
              "\n",
              "[402 rows x 1 columns]"
            ]
          },
          "metadata": {
            "tags": []
          },
          "execution_count": 9
        }
      ]
    },
    {
      "cell_type": "code",
      "metadata": {
        "id": "mpdFGS1qzuoF",
        "colab": {
          "base_uri": "https://localhost:8080/",
          "height": 407
        },
        "outputId": "6393de7e-e069-4029-bb7c-18915c14803d"
      },
      "source": [
        "dfVocales['I'] = dfPreFil['sentence'].apply(lambda x: ContadorVocalI(x))\n",
        "dfVocales['E'] = dfPreFil['sentence'].apply(lambda x: ContadorVocalE(x))\n",
        "dfVocales['A'] = dfPreFil['sentence'].apply(lambda x: ContadorVocalA(x))\n",
        "dfVocales['O'] = dfPreFil['sentence'].apply(lambda x: ContadorVocalO(x))\n",
        "dfVocales['U'] = dfPreFil['sentence'].apply(lambda x: ContadorVocalU(x))\n",
        "\n",
        "dfVocales"
      ],
      "execution_count": null,
      "outputs": [
        {
          "output_type": "execute_result",
          "data": {
            "text/html": [
              "<div>\n",
              "<style scoped>\n",
              "    .dataframe tbody tr th:only-of-type {\n",
              "        vertical-align: middle;\n",
              "    }\n",
              "\n",
              "    .dataframe tbody tr th {\n",
              "        vertical-align: top;\n",
              "    }\n",
              "\n",
              "    .dataframe thead th {\n",
              "        text-align: right;\n",
              "    }\n",
              "</style>\n",
              "<table border=\"1\" class=\"dataframe\">\n",
              "  <thead>\n",
              "    <tr style=\"text-align: right;\">\n",
              "      <th></th>\n",
              "      <th>Audio</th>\n",
              "      <th>I</th>\n",
              "      <th>E</th>\n",
              "      <th>A</th>\n",
              "      <th>O</th>\n",
              "      <th>U</th>\n",
              "    </tr>\n",
              "  </thead>\n",
              "  <tbody>\n",
              "    <tr>\n",
              "      <th>24</th>\n",
              "      <td>common_voice_es_19613838.mp3</td>\n",
              "      <td>2</td>\n",
              "      <td>6</td>\n",
              "      <td>5</td>\n",
              "      <td>6</td>\n",
              "      <td>3</td>\n",
              "    </tr>\n",
              "    <tr>\n",
              "      <th>123</th>\n",
              "      <td>common_voice_es_19711369.mp3</td>\n",
              "      <td>3</td>\n",
              "      <td>2</td>\n",
              "      <td>4</td>\n",
              "      <td>1</td>\n",
              "      <td>1</td>\n",
              "    </tr>\n",
              "    <tr>\n",
              "      <th>152</th>\n",
              "      <td>common_voice_es_19637716.mp3</td>\n",
              "      <td>4</td>\n",
              "      <td>2</td>\n",
              "      <td>5</td>\n",
              "      <td>7</td>\n",
              "      <td>3</td>\n",
              "    </tr>\n",
              "    <tr>\n",
              "      <th>164</th>\n",
              "      <td>common_voice_es_18334123.mp3</td>\n",
              "      <td>1</td>\n",
              "      <td>0</td>\n",
              "      <td>3</td>\n",
              "      <td>3</td>\n",
              "      <td>0</td>\n",
              "    </tr>\n",
              "    <tr>\n",
              "      <th>180</th>\n",
              "      <td>common_voice_es_19745846.mp3</td>\n",
              "      <td>3</td>\n",
              "      <td>8</td>\n",
              "      <td>1</td>\n",
              "      <td>8</td>\n",
              "      <td>4</td>\n",
              "    </tr>\n",
              "    <tr>\n",
              "      <th>...</th>\n",
              "      <td>...</td>\n",
              "      <td>...</td>\n",
              "      <td>...</td>\n",
              "      <td>...</td>\n",
              "      <td>...</td>\n",
              "      <td>...</td>\n",
              "    </tr>\n",
              "    <tr>\n",
              "      <th>13148</th>\n",
              "      <td>common_voice_es_19656967.mp3</td>\n",
              "      <td>2</td>\n",
              "      <td>5</td>\n",
              "      <td>1</td>\n",
              "      <td>1</td>\n",
              "      <td>4</td>\n",
              "    </tr>\n",
              "    <tr>\n",
              "      <th>13216</th>\n",
              "      <td>common_voice_es_18310103.mp3</td>\n",
              "      <td>3</td>\n",
              "      <td>2</td>\n",
              "      <td>11</td>\n",
              "      <td>3</td>\n",
              "      <td>3</td>\n",
              "    </tr>\n",
              "    <tr>\n",
              "      <th>13217</th>\n",
              "      <td>common_voice_es_18310105.mp3</td>\n",
              "      <td>1</td>\n",
              "      <td>5</td>\n",
              "      <td>6</td>\n",
              "      <td>4</td>\n",
              "      <td>0</td>\n",
              "    </tr>\n",
              "    <tr>\n",
              "      <th>13218</th>\n",
              "      <td>common_voice_es_18310110.mp3</td>\n",
              "      <td>1</td>\n",
              "      <td>1</td>\n",
              "      <td>4</td>\n",
              "      <td>6</td>\n",
              "      <td>0</td>\n",
              "    </tr>\n",
              "    <tr>\n",
              "      <th>13219</th>\n",
              "      <td>common_voice_es_18310112.mp3</td>\n",
              "      <td>1</td>\n",
              "      <td>1</td>\n",
              "      <td>5</td>\n",
              "      <td>3</td>\n",
              "      <td>0</td>\n",
              "    </tr>\n",
              "  </tbody>\n",
              "</table>\n",
              "<p>402 rows × 6 columns</p>\n",
              "</div>"
            ],
            "text/plain": [
              "                              Audio  I  E   A  O  U\n",
              "24     common_voice_es_19613838.mp3  2  6   5  6  3\n",
              "123    common_voice_es_19711369.mp3  3  2   4  1  1\n",
              "152    common_voice_es_19637716.mp3  4  2   5  7  3\n",
              "164    common_voice_es_18334123.mp3  1  0   3  3  0\n",
              "180    common_voice_es_19745846.mp3  3  8   1  8  4\n",
              "...                             ... .. ..  .. .. ..\n",
              "13148  common_voice_es_19656967.mp3  2  5   1  1  4\n",
              "13216  common_voice_es_18310103.mp3  3  2  11  3  3\n",
              "13217  common_voice_es_18310105.mp3  1  5   6  4  0\n",
              "13218  common_voice_es_18310110.mp3  1  1   4  6  0\n",
              "13219  common_voice_es_18310112.mp3  1  1   5  3  0\n",
              "\n",
              "[402 rows x 6 columns]"
            ]
          },
          "metadata": {
            "tags": []
          },
          "execution_count": 10
        }
      ]
    },
    {
      "cell_type": "code",
      "metadata": {
        "id": "HGS276-x8nil",
        "colab": {
          "base_uri": "https://localhost:8080/"
        },
        "outputId": "b7b649cf-8864-4eb6-80c9-c0263d6a5a03"
      },
      "source": [
        "print('Total íes (i):', dfVocales['I'].sum())\n",
        "print('Total es (e):', dfVocales['E'].sum())\n",
        "print('Total aes (a):', dfVocales['A'].sum())\n",
        "print('Total oes (o):', dfVocales['O'].sum())\n",
        "print('Total úes (u):', dfVocales['U'].sum())"
      ],
      "execution_count": null,
      "outputs": [
        {
          "output_type": "stream",
          "text": [
            "Total íes (i): 1294\n",
            "Total es (e): 2442\n",
            "Total aes (a): 2290\n",
            "Total oes (o): 1727\n",
            "Total úes (u): 782\n"
          ],
          "name": "stdout"
        }
      ]
    },
    {
      "cell_type": "markdown",
      "metadata": {
        "id": "LienzqItdCw5"
      },
      "source": [
        "##Vocal /i/"
      ]
    },
    {
      "cell_type": "code",
      "metadata": {
        "id": "sTlyG7bj_o9A",
        "colab": {
          "base_uri": "https://localhost:8080/",
          "height": 468
        },
        "outputId": "20c833fc-d12b-46a6-d90a-217e350a87f5"
      },
      "source": [
        "# resumen de vocales /i/\n",
        "dfVocales['I'].value_counts()\n",
        "\n",
        "# ordenar de mayor a menor, incluyendo los valores repetidos\n",
        "vocalI = dfVocales.nlargest(100, 'I', keep='all')\n",
        "\n",
        "# reiniciar index\n",
        "vocalI = vocalI.reset_index()\n",
        "\n",
        "# eliminar columnas innecesarias\n",
        "vocalI = vocalI.drop(['E'], axis=1)\n",
        "vocalI = vocalI.drop(['A'], axis=1)\n",
        "vocalI = vocalI.drop(['O'], axis=1)\n",
        "vocalI = vocalI.drop(['U'], axis=1)\n",
        "vocalI = vocalI.drop(['index'], axis=1)\n",
        "\n",
        "# renombrar columna\n",
        "vocalI = vocalI.rename({'I':'Conteo de vocales /i/'}, axis=1)\n",
        "\n",
        "vocalI[66:80]"
      ],
      "execution_count": null,
      "outputs": [
        {
          "output_type": "execute_result",
          "data": {
            "text/html": [
              "<div>\n",
              "<style scoped>\n",
              "    .dataframe tbody tr th:only-of-type {\n",
              "        vertical-align: middle;\n",
              "    }\n",
              "\n",
              "    .dataframe tbody tr th {\n",
              "        vertical-align: top;\n",
              "    }\n",
              "\n",
              "    .dataframe thead th {\n",
              "        text-align: right;\n",
              "    }\n",
              "</style>\n",
              "<table border=\"1\" class=\"dataframe\">\n",
              "  <thead>\n",
              "    <tr style=\"text-align: right;\">\n",
              "      <th></th>\n",
              "      <th>Audio</th>\n",
              "      <th>Conteo de vocales /i/</th>\n",
              "    </tr>\n",
              "  </thead>\n",
              "  <tbody>\n",
              "    <tr>\n",
              "      <th>66</th>\n",
              "      <td>common_voice_es_19606725.mp3</td>\n",
              "      <td>5</td>\n",
              "    </tr>\n",
              "    <tr>\n",
              "      <th>67</th>\n",
              "      <td>common_voice_es_18311006.mp3</td>\n",
              "      <td>5</td>\n",
              "    </tr>\n",
              "    <tr>\n",
              "      <th>68</th>\n",
              "      <td>common_voice_es_19717593.mp3</td>\n",
              "      <td>5</td>\n",
              "    </tr>\n",
              "    <tr>\n",
              "      <th>69</th>\n",
              "      <td>common_voice_es_19638044.mp3</td>\n",
              "      <td>5</td>\n",
              "    </tr>\n",
              "    <tr>\n",
              "      <th>70</th>\n",
              "      <td>common_voice_es_19122351.mp3</td>\n",
              "      <td>5</td>\n",
              "    </tr>\n",
              "    <tr>\n",
              "      <th>71</th>\n",
              "      <td>common_voice_es_19957306.mp3</td>\n",
              "      <td>5</td>\n",
              "    </tr>\n",
              "    <tr>\n",
              "      <th>72</th>\n",
              "      <td>common_voice_es_19639949.mp3</td>\n",
              "      <td>5</td>\n",
              "    </tr>\n",
              "    <tr>\n",
              "      <th>73</th>\n",
              "      <td>common_voice_es_19609281.mp3</td>\n",
              "      <td>5</td>\n",
              "    </tr>\n",
              "    <tr>\n",
              "      <th>74</th>\n",
              "      <td>common_voice_es_19620463.mp3</td>\n",
              "      <td>5</td>\n",
              "    </tr>\n",
              "    <tr>\n",
              "      <th>75</th>\n",
              "      <td>common_voice_es_19694573.mp3</td>\n",
              "      <td>5</td>\n",
              "    </tr>\n",
              "    <tr>\n",
              "      <th>76</th>\n",
              "      <td>common_voice_es_19675759.mp3</td>\n",
              "      <td>5</td>\n",
              "    </tr>\n",
              "    <tr>\n",
              "      <th>77</th>\n",
              "      <td>common_voice_es_19128496.mp3</td>\n",
              "      <td>5</td>\n",
              "    </tr>\n",
              "    <tr>\n",
              "      <th>78</th>\n",
              "      <td>common_voice_es_19199242.mp3</td>\n",
              "      <td>5</td>\n",
              "    </tr>\n",
              "    <tr>\n",
              "      <th>79</th>\n",
              "      <td>common_voice_es_19646062.mp3</td>\n",
              "      <td>5</td>\n",
              "    </tr>\n",
              "  </tbody>\n",
              "</table>\n",
              "</div>"
            ],
            "text/plain": [
              "                           Audio  Conteo de vocales /i/\n",
              "66  common_voice_es_19606725.mp3                      5\n",
              "67  common_voice_es_18311006.mp3                      5\n",
              "68  common_voice_es_19717593.mp3                      5\n",
              "69  common_voice_es_19638044.mp3                      5\n",
              "70  common_voice_es_19122351.mp3                      5\n",
              "71  common_voice_es_19957306.mp3                      5\n",
              "72  common_voice_es_19639949.mp3                      5\n",
              "73  common_voice_es_19609281.mp3                      5\n",
              "74  common_voice_es_19620463.mp3                      5\n",
              "75  common_voice_es_19694573.mp3                      5\n",
              "76  common_voice_es_19675759.mp3                      5\n",
              "77  common_voice_es_19128496.mp3                      5\n",
              "78  common_voice_es_19199242.mp3                      5\n",
              "79  common_voice_es_19646062.mp3                      5"
            ]
          },
          "metadata": {
            "tags": []
          },
          "execution_count": 12
        }
      ]
    },
    {
      "cell_type": "markdown",
      "metadata": {
        "id": "o9OVCSaCdL3p"
      },
      "source": [
        "##Vocal /e/"
      ]
    },
    {
      "cell_type": "code",
      "metadata": {
        "colab": {
          "base_uri": "https://localhost:8080/",
          "height": 528
        },
        "id": "pw5ZtDqvz7Og",
        "outputId": "6dbcfcd2-631e-4b07-d73f-d04f6d2e76ab"
      },
      "source": [
        "# resumen de vocales /e/\n",
        "dfVocales['E'].value_counts()\n",
        "\n",
        "# ordenar de mayor a menor, incluyendo los valores repetidos\n",
        "vocalE = dfVocales.nlargest(100, 'E', keep='all')\n",
        "\n",
        "# reiniciar index\n",
        "vocalE = vocalE.reset_index()\n",
        "\n",
        "# eliminar columnas innecesarias\n",
        "vocalE = vocalE.drop(['I'], axis=1)\n",
        "vocalE = vocalE.drop(['A'], axis=1)\n",
        "vocalE = vocalE.drop(['O'], axis=1)\n",
        "vocalE = vocalE.drop(['U'], axis=1)\n",
        "vocalE = vocalE.drop(['index'], axis=1)\n",
        "\n",
        "# renombrar columna\n",
        "vocalE = vocalE.rename({'E':'Conteo de vocales /e/'}, axis=1)\n",
        "\n",
        "vocalE[54:70]"
      ],
      "execution_count": null,
      "outputs": [
        {
          "output_type": "execute_result",
          "data": {
            "text/html": [
              "<div>\n",
              "<style scoped>\n",
              "    .dataframe tbody tr th:only-of-type {\n",
              "        vertical-align: middle;\n",
              "    }\n",
              "\n",
              "    .dataframe tbody tr th {\n",
              "        vertical-align: top;\n",
              "    }\n",
              "\n",
              "    .dataframe thead th {\n",
              "        text-align: right;\n",
              "    }\n",
              "</style>\n",
              "<table border=\"1\" class=\"dataframe\">\n",
              "  <thead>\n",
              "    <tr style=\"text-align: right;\">\n",
              "      <th></th>\n",
              "      <th>Audio</th>\n",
              "      <th>Conteo de vocales /e/</th>\n",
              "    </tr>\n",
              "  </thead>\n",
              "  <tbody>\n",
              "    <tr>\n",
              "      <th>54</th>\n",
              "      <td>common_voice_es_19612449.mp3</td>\n",
              "      <td>10</td>\n",
              "    </tr>\n",
              "    <tr>\n",
              "      <th>55</th>\n",
              "      <td>common_voice_es_19682782.mp3</td>\n",
              "      <td>9</td>\n",
              "    </tr>\n",
              "    <tr>\n",
              "      <th>56</th>\n",
              "      <td>common_voice_es_19668689.mp3</td>\n",
              "      <td>9</td>\n",
              "    </tr>\n",
              "    <tr>\n",
              "      <th>57</th>\n",
              "      <td>common_voice_es_19685902.mp3</td>\n",
              "      <td>9</td>\n",
              "    </tr>\n",
              "    <tr>\n",
              "      <th>58</th>\n",
              "      <td>common_voice_es_19618877.mp3</td>\n",
              "      <td>9</td>\n",
              "    </tr>\n",
              "    <tr>\n",
              "      <th>59</th>\n",
              "      <td>common_voice_es_18942523.mp3</td>\n",
              "      <td>9</td>\n",
              "    </tr>\n",
              "    <tr>\n",
              "      <th>60</th>\n",
              "      <td>common_voice_es_19123635.mp3</td>\n",
              "      <td>9</td>\n",
              "    </tr>\n",
              "    <tr>\n",
              "      <th>61</th>\n",
              "      <td>common_voice_es_19682032.mp3</td>\n",
              "      <td>9</td>\n",
              "    </tr>\n",
              "    <tr>\n",
              "      <th>62</th>\n",
              "      <td>common_voice_es_19603226.mp3</td>\n",
              "      <td>9</td>\n",
              "    </tr>\n",
              "    <tr>\n",
              "      <th>63</th>\n",
              "      <td>common_voice_es_19598658.mp3</td>\n",
              "      <td>9</td>\n",
              "    </tr>\n",
              "    <tr>\n",
              "      <th>64</th>\n",
              "      <td>common_voice_es_19137089.mp3</td>\n",
              "      <td>9</td>\n",
              "    </tr>\n",
              "    <tr>\n",
              "      <th>65</th>\n",
              "      <td>common_voice_es_19636299.mp3</td>\n",
              "      <td>9</td>\n",
              "    </tr>\n",
              "    <tr>\n",
              "      <th>66</th>\n",
              "      <td>common_voice_es_19657600.mp3</td>\n",
              "      <td>9</td>\n",
              "    </tr>\n",
              "    <tr>\n",
              "      <th>67</th>\n",
              "      <td>common_voice_es_19675815.mp3</td>\n",
              "      <td>9</td>\n",
              "    </tr>\n",
              "    <tr>\n",
              "      <th>68</th>\n",
              "      <td>common_voice_es_19660315.mp3</td>\n",
              "      <td>9</td>\n",
              "    </tr>\n",
              "    <tr>\n",
              "      <th>69</th>\n",
              "      <td>common_voice_es_19634380.mp3</td>\n",
              "      <td>9</td>\n",
              "    </tr>\n",
              "  </tbody>\n",
              "</table>\n",
              "</div>"
            ],
            "text/plain": [
              "                           Audio  Conteo de vocales /e/\n",
              "54  common_voice_es_19612449.mp3                     10\n",
              "55  common_voice_es_19682782.mp3                      9\n",
              "56  common_voice_es_19668689.mp3                      9\n",
              "57  common_voice_es_19685902.mp3                      9\n",
              "58  common_voice_es_19618877.mp3                      9\n",
              "59  common_voice_es_18942523.mp3                      9\n",
              "60  common_voice_es_19123635.mp3                      9\n",
              "61  common_voice_es_19682032.mp3                      9\n",
              "62  common_voice_es_19603226.mp3                      9\n",
              "63  common_voice_es_19598658.mp3                      9\n",
              "64  common_voice_es_19137089.mp3                      9\n",
              "65  common_voice_es_19636299.mp3                      9\n",
              "66  common_voice_es_19657600.mp3                      9\n",
              "67  common_voice_es_19675815.mp3                      9\n",
              "68  common_voice_es_19660315.mp3                      9\n",
              "69  common_voice_es_19634380.mp3                      9"
            ]
          },
          "metadata": {
            "tags": []
          },
          "execution_count": 13
        }
      ]
    },
    {
      "cell_type": "markdown",
      "metadata": {
        "id": "dpyZaZELdPg5"
      },
      "source": [
        "##Vocal /a/"
      ]
    },
    {
      "cell_type": "code",
      "metadata": {
        "colab": {
          "base_uri": "https://localhost:8080/",
          "height": 318
        },
        "id": "6R9LVxDH2AiU",
        "outputId": "348a0e3f-56ee-4980-9827-a623355247a3"
      },
      "source": [
        "# resumen de vocales /a/\n",
        "dfVocales['A'].value_counts()\n",
        "\n",
        "# ordenar de mayor a menor, incluyendo los valores repetidos\n",
        "vocalA = dfVocales.nlargest(100, 'A', keep='all')\n",
        "\n",
        "# reiniciar index\n",
        "vocalA = vocalA.reset_index()\n",
        "\n",
        "# eliminar columnas innecesarias\n",
        "vocalA = vocalA.drop(['I'], axis=1)\n",
        "vocalA = vocalA.drop(['E'], axis=1)\n",
        "vocalA = vocalA.drop(['O'], axis=1)\n",
        "vocalA = vocalA.drop(['U'], axis=1)\n",
        "vocalA = vocalA.drop(['index'], axis=1)\n",
        "\n",
        "# renombrar columna\n",
        "vocalA = vocalA.rename({'A':'Conteo de vocales /a/'}, axis=1)\n",
        "\n",
        "vocalA[71:80]"
      ],
      "execution_count": null,
      "outputs": [
        {
          "output_type": "execute_result",
          "data": {
            "text/html": [
              "<div>\n",
              "<style scoped>\n",
              "    .dataframe tbody tr th:only-of-type {\n",
              "        vertical-align: middle;\n",
              "    }\n",
              "\n",
              "    .dataframe tbody tr th {\n",
              "        vertical-align: top;\n",
              "    }\n",
              "\n",
              "    .dataframe thead th {\n",
              "        text-align: right;\n",
              "    }\n",
              "</style>\n",
              "<table border=\"1\" class=\"dataframe\">\n",
              "  <thead>\n",
              "    <tr style=\"text-align: right;\">\n",
              "      <th></th>\n",
              "      <th>Audio</th>\n",
              "      <th>Conteo de vocales /a/</th>\n",
              "    </tr>\n",
              "  </thead>\n",
              "  <tbody>\n",
              "    <tr>\n",
              "      <th>71</th>\n",
              "      <td>common_voice_es_19628401.mp3</td>\n",
              "      <td>9</td>\n",
              "    </tr>\n",
              "    <tr>\n",
              "      <th>72</th>\n",
              "      <td>common_voice_es_19605784.mp3</td>\n",
              "      <td>8</td>\n",
              "    </tr>\n",
              "    <tr>\n",
              "      <th>73</th>\n",
              "      <td>common_voice_es_19603840.mp3</td>\n",
              "      <td>8</td>\n",
              "    </tr>\n",
              "    <tr>\n",
              "      <th>74</th>\n",
              "      <td>common_voice_es_19730525.mp3</td>\n",
              "      <td>8</td>\n",
              "    </tr>\n",
              "    <tr>\n",
              "      <th>75</th>\n",
              "      <td>common_voice_es_19603226.mp3</td>\n",
              "      <td>8</td>\n",
              "    </tr>\n",
              "    <tr>\n",
              "      <th>76</th>\n",
              "      <td>common_voice_es_18308862.mp3</td>\n",
              "      <td>8</td>\n",
              "    </tr>\n",
              "    <tr>\n",
              "      <th>77</th>\n",
              "      <td>common_voice_es_19721782.mp3</td>\n",
              "      <td>8</td>\n",
              "    </tr>\n",
              "    <tr>\n",
              "      <th>78</th>\n",
              "      <td>common_voice_es_19610364.mp3</td>\n",
              "      <td>8</td>\n",
              "    </tr>\n",
              "    <tr>\n",
              "      <th>79</th>\n",
              "      <td>common_voice_es_19684672.mp3</td>\n",
              "      <td>8</td>\n",
              "    </tr>\n",
              "  </tbody>\n",
              "</table>\n",
              "</div>"
            ],
            "text/plain": [
              "                           Audio  Conteo de vocales /a/\n",
              "71  common_voice_es_19628401.mp3                      9\n",
              "72  common_voice_es_19605784.mp3                      8\n",
              "73  common_voice_es_19603840.mp3                      8\n",
              "74  common_voice_es_19730525.mp3                      8\n",
              "75  common_voice_es_19603226.mp3                      8\n",
              "76  common_voice_es_18308862.mp3                      8\n",
              "77  common_voice_es_19721782.mp3                      8\n",
              "78  common_voice_es_19610364.mp3                      8\n",
              "79  common_voice_es_19684672.mp3                      8"
            ]
          },
          "metadata": {
            "tags": []
          },
          "execution_count": 14
        }
      ]
    },
    {
      "cell_type": "markdown",
      "metadata": {
        "id": "CriMPSvmdSDz"
      },
      "source": [
        "##Vocal /o/"
      ]
    },
    {
      "cell_type": "code",
      "metadata": {
        "colab": {
          "base_uri": "https://localhost:8080/",
          "height": 168
        },
        "id": "aWDFDOS48s-v",
        "outputId": "da7d66f4-d806-46d2-df65-e1ca982e06c9"
      },
      "source": [
        "# resumen de vocales /o/\n",
        "dfVocales['O'].value_counts()\n",
        "\n",
        "# ordenar de mayor a menor, incluyendo los valores repetidos\n",
        "vocalO = dfVocales.nlargest(100, 'O', keep='all')\n",
        "\n",
        "# reiniciar index\n",
        "vocalO = vocalO.reset_index()\n",
        "\n",
        "# eliminar columnas innecesarias\n",
        "vocalO = vocalO.drop(['I'], axis=1)\n",
        "vocalO = vocalO.drop(['E'], axis=1)\n",
        "vocalO = vocalO.drop(['A'], axis=1)\n",
        "vocalO = vocalO.drop(['U'], axis=1)\n",
        "vocalO = vocalO.drop(['index'], axis=1)\n",
        "\n",
        "# renombrar columna\n",
        "vocalO = vocalO.rename({'O':'Conteo de vocales /o/'}, axis=1)\n",
        "\n",
        "vocalO[86:90]"
      ],
      "execution_count": null,
      "outputs": [
        {
          "output_type": "execute_result",
          "data": {
            "text/html": [
              "<div>\n",
              "<style scoped>\n",
              "    .dataframe tbody tr th:only-of-type {\n",
              "        vertical-align: middle;\n",
              "    }\n",
              "\n",
              "    .dataframe tbody tr th {\n",
              "        vertical-align: top;\n",
              "    }\n",
              "\n",
              "    .dataframe thead th {\n",
              "        text-align: right;\n",
              "    }\n",
              "</style>\n",
              "<table border=\"1\" class=\"dataframe\">\n",
              "  <thead>\n",
              "    <tr style=\"text-align: right;\">\n",
              "      <th></th>\n",
              "      <th>Audio</th>\n",
              "      <th>Conteo de vocales /o/</th>\n",
              "    </tr>\n",
              "  </thead>\n",
              "  <tbody>\n",
              "    <tr>\n",
              "      <th>86</th>\n",
              "      <td>common_voice_es_18311006.mp3</td>\n",
              "      <td>6</td>\n",
              "    </tr>\n",
              "    <tr>\n",
              "      <th>87</th>\n",
              "      <td>common_voice_es_19614545.mp3</td>\n",
              "      <td>6</td>\n",
              "    </tr>\n",
              "    <tr>\n",
              "      <th>88</th>\n",
              "      <td>common_voice_es_19684481.mp3</td>\n",
              "      <td>6</td>\n",
              "    </tr>\n",
              "    <tr>\n",
              "      <th>89</th>\n",
              "      <td>common_voice_es_19717593.mp3</td>\n",
              "      <td>6</td>\n",
              "    </tr>\n",
              "  </tbody>\n",
              "</table>\n",
              "</div>"
            ],
            "text/plain": [
              "                           Audio  Conteo de vocales /o/\n",
              "86  common_voice_es_18311006.mp3                      6\n",
              "87  common_voice_es_19614545.mp3                      6\n",
              "88  common_voice_es_19684481.mp3                      6\n",
              "89  common_voice_es_19717593.mp3                      6"
            ]
          },
          "metadata": {
            "tags": []
          },
          "execution_count": 15
        }
      ]
    },
    {
      "cell_type": "markdown",
      "metadata": {
        "id": "7RWc5mpadVPR"
      },
      "source": [
        "##Vocal /u/"
      ]
    },
    {
      "cell_type": "code",
      "metadata": {
        "colab": {
          "base_uri": "https://localhost:8080/",
          "height": 618
        },
        "id": "mBzUPHvu-Qe4",
        "outputId": "d91e1e6e-bd7d-4548-bfc1-2bc81295c61c"
      },
      "source": [
        "# resumen de vocales /u/\n",
        "dfVocales['U'].value_counts()\n",
        "\n",
        "# ordenar de mayor a menor, incluyendo los valores repetidos\n",
        "vocalU = dfVocales.nlargest(150, 'U', keep='all')\n",
        "\n",
        "# reiniciar index\n",
        "vocalU = vocalU.reset_index()\n",
        "\n",
        "# eliminar columnas innecesarias\n",
        "vocalU = vocalU.drop(['I'], axis=1)\n",
        "vocalU = vocalU.drop(['E'], axis=1)\n",
        "vocalU = vocalU.drop(['A'], axis=1)\n",
        "vocalU = vocalU.drop(['O'], axis=1)\n",
        "vocalU = vocalU.drop(['index'], axis=1)\n",
        "\n",
        "# renombrar columna\n",
        "vocalU = vocalU.rename({'U':'Conteo de vocales /u/'}, axis=1)\n",
        "\n",
        "vocalU[140:159]"
      ],
      "execution_count": null,
      "outputs": [
        {
          "output_type": "execute_result",
          "data": {
            "text/html": [
              "<div>\n",
              "<style scoped>\n",
              "    .dataframe tbody tr th:only-of-type {\n",
              "        vertical-align: middle;\n",
              "    }\n",
              "\n",
              "    .dataframe tbody tr th {\n",
              "        vertical-align: top;\n",
              "    }\n",
              "\n",
              "    .dataframe thead th {\n",
              "        text-align: right;\n",
              "    }\n",
              "</style>\n",
              "<table border=\"1\" class=\"dataframe\">\n",
              "  <thead>\n",
              "    <tr style=\"text-align: right;\">\n",
              "      <th></th>\n",
              "      <th>Audio</th>\n",
              "      <th>Conteo de vocales /u/</th>\n",
              "    </tr>\n",
              "  </thead>\n",
              "  <tbody>\n",
              "    <tr>\n",
              "      <th>140</th>\n",
              "      <td>common_voice_es_19620561.mp3</td>\n",
              "      <td>2</td>\n",
              "    </tr>\n",
              "    <tr>\n",
              "      <th>141</th>\n",
              "      <td>common_voice_es_18309351.mp3</td>\n",
              "      <td>2</td>\n",
              "    </tr>\n",
              "    <tr>\n",
              "      <th>142</th>\n",
              "      <td>common_voice_es_19655030.mp3</td>\n",
              "      <td>2</td>\n",
              "    </tr>\n",
              "    <tr>\n",
              "      <th>143</th>\n",
              "      <td>common_voice_es_19655035.mp3</td>\n",
              "      <td>2</td>\n",
              "    </tr>\n",
              "    <tr>\n",
              "      <th>144</th>\n",
              "      <td>common_voice_es_19682032.mp3</td>\n",
              "      <td>2</td>\n",
              "    </tr>\n",
              "    <tr>\n",
              "      <th>145</th>\n",
              "      <td>common_voice_es_19703724.mp3</td>\n",
              "      <td>2</td>\n",
              "    </tr>\n",
              "    <tr>\n",
              "      <th>146</th>\n",
              "      <td>common_voice_es_19666639.mp3</td>\n",
              "      <td>2</td>\n",
              "    </tr>\n",
              "    <tr>\n",
              "      <th>147</th>\n",
              "      <td>common_voice_es_19730527.mp3</td>\n",
              "      <td>2</td>\n",
              "    </tr>\n",
              "    <tr>\n",
              "      <th>148</th>\n",
              "      <td>common_voice_es_19603227.mp3</td>\n",
              "      <td>2</td>\n",
              "    </tr>\n",
              "    <tr>\n",
              "      <th>149</th>\n",
              "      <td>common_voice_es_19639747.mp3</td>\n",
              "      <td>2</td>\n",
              "    </tr>\n",
              "    <tr>\n",
              "      <th>150</th>\n",
              "      <td>common_voice_es_19912344.mp3</td>\n",
              "      <td>2</td>\n",
              "    </tr>\n",
              "    <tr>\n",
              "      <th>151</th>\n",
              "      <td>common_voice_es_18319514.mp3</td>\n",
              "      <td>2</td>\n",
              "    </tr>\n",
              "    <tr>\n",
              "      <th>152</th>\n",
              "      <td>common_voice_es_18319515.mp3</td>\n",
              "      <td>2</td>\n",
              "    </tr>\n",
              "    <tr>\n",
              "      <th>153</th>\n",
              "      <td>common_voice_es_19681829.mp3</td>\n",
              "      <td>2</td>\n",
              "    </tr>\n",
              "    <tr>\n",
              "      <th>154</th>\n",
              "      <td>common_voice_es_19603467.mp3</td>\n",
              "      <td>2</td>\n",
              "    </tr>\n",
              "    <tr>\n",
              "      <th>155</th>\n",
              "      <td>common_voice_es_19648953.mp3</td>\n",
              "      <td>2</td>\n",
              "    </tr>\n",
              "    <tr>\n",
              "      <th>156</th>\n",
              "      <td>common_voice_es_19618365.mp3</td>\n",
              "      <td>2</td>\n",
              "    </tr>\n",
              "    <tr>\n",
              "      <th>157</th>\n",
              "      <td>common_voice_es_19604259.mp3</td>\n",
              "      <td>2</td>\n",
              "    </tr>\n",
              "    <tr>\n",
              "      <th>158</th>\n",
              "      <td>common_voice_es_19714910.mp3</td>\n",
              "      <td>2</td>\n",
              "    </tr>\n",
              "  </tbody>\n",
              "</table>\n",
              "</div>"
            ],
            "text/plain": [
              "                            Audio  Conteo de vocales /u/\n",
              "140  common_voice_es_19620561.mp3                      2\n",
              "141  common_voice_es_18309351.mp3                      2\n",
              "142  common_voice_es_19655030.mp3                      2\n",
              "143  common_voice_es_19655035.mp3                      2\n",
              "144  common_voice_es_19682032.mp3                      2\n",
              "145  common_voice_es_19703724.mp3                      2\n",
              "146  common_voice_es_19666639.mp3                      2\n",
              "147  common_voice_es_19730527.mp3                      2\n",
              "148  common_voice_es_19603227.mp3                      2\n",
              "149  common_voice_es_19639747.mp3                      2\n",
              "150  common_voice_es_19912344.mp3                      2\n",
              "151  common_voice_es_18319514.mp3                      2\n",
              "152  common_voice_es_18319515.mp3                      2\n",
              "153  common_voice_es_19681829.mp3                      2\n",
              "154  common_voice_es_19603467.mp3                      2\n",
              "155  common_voice_es_19648953.mp3                      2\n",
              "156  common_voice_es_19618365.mp3                      2\n",
              "157  common_voice_es_19604259.mp3                      2\n",
              "158  common_voice_es_19714910.mp3                      2"
            ]
          },
          "metadata": {
            "tags": []
          },
          "execution_count": 16
        }
      ]
    }
  ]
}