{
  "nbformat": 4,
  "nbformat_minor": 0,
  "metadata": {
    "colab": {
      "name": "Procesador_Raw_AMT.ipynb",
      "provenance": [],
      "collapsed_sections": [],
      "toc_visible": true
    },
    "kernelspec": {
      "name": "python3",
      "display_name": "Python 3"
    }
  },
  "cells": [
    {
      "cell_type": "markdown",
      "metadata": {
        "id": "7AzZ5PfEL-w2"
      },
      "source": [
        "#Permisos y librerias"
      ]
    },
    {
      "cell_type": "code",
      "metadata": {
        "id": "Zsw7sNznbHVv",
        "colab": {
          "base_uri": "https://localhost:8080/",
          "height": 122
        },
        "outputId": "c6a1921b-3172-46fa-c15e-49db543059ef"
      },
      "source": [
        "from google.colab import drive\n",
        "drive.mount('/content/drive')"
      ],
      "execution_count": null,
      "outputs": [
        {
          "output_type": "stream",
          "text": [
            "Go to this URL in a browser: https://accounts.google.com/o/oauth2/auth?client_id=947318989803-6bn6qk8qdgf4n4g3pfee6491hc0brc4i.apps.googleusercontent.com&redirect_uri=urn%3aietf%3awg%3aoauth%3a2.0%3aoob&scope=email%20https%3a%2f%2fwww.googleapis.com%2fauth%2fdocs.test%20https%3a%2f%2fwww.googleapis.com%2fauth%2fdrive%20https%3a%2f%2fwww.googleapis.com%2fauth%2fdrive.photos.readonly%20https%3a%2f%2fwww.googleapis.com%2fauth%2fpeopleapi.readonly&response_type=code\n",
            "\n",
            "Enter your authorization code:\n",
            "··········\n",
            "Mounted at /content/drive\n"
          ],
          "name": "stdout"
        }
      ]
    },
    {
      "cell_type": "code",
      "metadata": {
        "id": "faoApord2-_N"
      },
      "source": [
        "import os\n",
        "import numpy as np\n",
        "import shutil\n",
        "import math\n",
        "\n",
        "from PIL import Image\n",
        "from matplotlib.pyplot import imshow"
      ],
      "execution_count": null,
      "outputs": []
    },
    {
      "cell_type": "markdown",
      "metadata": {
        "id": "eOx98V1x7PZq"
      },
      "source": [
        "Funciones"
      ]
    },
    {
      "cell_type": "code",
      "metadata": {
        "id": "mJ4hoLw038Iw"
      },
      "source": [
        "def extractor(ruta):\n",
        "  lista = []\n",
        "\n",
        "  for dirName, subdirList, fileList in os.walk(ruta):\n",
        "    for fname in fileList:\n",
        "        lista.append(fname)  #Añadir el nombre del archivo a la lista\n",
        "  return lista\n",
        "\n",
        "\n",
        "def cortador(entrada, lista, salida):\n",
        "  #Coordenadas de marco a recortar\n",
        "  izquierda = 238\n",
        "  arriba = 234\n",
        "  derecha = 362\n",
        "  abajo = 968\n",
        "\n",
        "  for vowel in range(0, len(lista)):\n",
        "    im = Image.open(entrada + lista[vowel])    \n",
        "    marco = im.crop((izquierda, arriba, derecha, abajo))\n",
        "    marco.save(salida + lista[vowel])\n",
        "  \n",
        "\n",
        "def division_train_test(entrada, lista, salida_train, salida_test):\n",
        "  Datos = []\n",
        "  Datos = lista\n",
        "\n",
        "  value_train = math.ceil(len(lista)*0.7)\n",
        "  value_test = len(lista) - value_train\n",
        "\n",
        "  for i in range(value_train):\n",
        "    shutil.move(entrada + lista[i], salida_train + lista[i])\n",
        "\n",
        "  lista.reverse()\n",
        "\n",
        "  for i in range(value_test):\n",
        "    shutil.move(entrada + lista[i], salida_test + lista[i])"
      ],
      "execution_count": null,
      "outputs": []
    },
    {
      "cell_type": "markdown",
      "metadata": {
        "id": "bKWkfhixZzTy"
      },
      "source": [
        "Declarar rutas tanto de lectura como de salida de datos"
      ]
    },
    {
      "cell_type": "code",
      "metadata": {
        "id": "Na5hyLw8aGI7"
      },
      "source": [
        "#Ruta de lectura raiz\n",
        "PATH_ROOT = \"/content/drive/My Drive/Proyectos/Machine learning/CNN Espectrogramas/Anexos/Pre raw/Imágenes PDC/\"\n",
        "\n",
        "#Carpetas de entrada\n",
        "VOWELS_I = PATH_ROOT + \"i/\"\n",
        "VOWELS_E = PATH_ROOT + \"e/\"\n",
        "VOWELS_A = PATH_ROOT + \"a/\"\n",
        "VOWELS_O = PATH_ROOT + \"o/\"\n",
        "VOWELS_U = PATH_ROOT + \"u/\"\n",
        "\n",
        "\n",
        "#Ruta de salida\n",
        "PATH_OUT = '/content/drive/My Drive/Proyectos/Machine learning/CNN Espectrogramas/Anexos/Pre raw/Temp/'\n",
        "\n",
        "#Carpetas de salida\n",
        "CUT_VOWELS_I = PATH_OUT + 'i/'\n",
        "CUT_VOWELS_E = PATH_OUT + 'e/'\n",
        "CUT_VOWELS_A = PATH_OUT + 'a/'\n",
        "CUT_VOWELS_O = PATH_OUT + 'o/'\n",
        "CUT_VOWELS_U = PATH_OUT + 'u/'\n",
        "\n",
        "\n",
        "#Rutas de salida Train-Test\n",
        "PATH_TT = '/content/drive/My Drive/Proyectos/Machine learning/CNN Espectrogramas/Datos/Prueba de concepto/Imágenes raw/'\n",
        "\n",
        "TRAIN = PATH_TT + 'Train/'\n",
        "TEST = PATH_TT + 'Test/'\n",
        "\n",
        "#Carpetas de salida\n",
        "TRAIN_VOWELS_I = TRAIN + 'i/'\n",
        "TRAIN_VOWELS_E = TRAIN + 'e/'\n",
        "TRAIN_VOWELS_A = TRAIN + 'a/'\n",
        "TRAIN_VOWELS_O = TRAIN + 'o/'\n",
        "TRAIN_VOWELS_U = TRAIN + 'u/'\n",
        "\n",
        "TEST_VOWELS_I = TEST + 'i/'\n",
        "TEST_VOWELS_E = TEST + 'e/'\n",
        "TEST_VOWELS_A = TEST + 'a/'\n",
        "TEST_VOWELS_O = TEST + 'o/'\n",
        "TEST_VOWELS_U = TEST + 'u/'"
      ],
      "execution_count": null,
      "outputs": []
    },
    {
      "cell_type": "markdown",
      "metadata": {
        "id": "MtEkEnLqMKTy"
      },
      "source": [
        "#Obtención de imágenes"
      ]
    },
    {
      "cell_type": "markdown",
      "metadata": {
        "id": "OAc3pW0GMpkX"
      },
      "source": [
        "Obtener nombres de archivos según carpeta"
      ]
    },
    {
      "cell_type": "code",
      "metadata": {
        "id": "uaTRKbVnlBKB"
      },
      "source": [
        "vowels_i = vowels_e = vowels_a = vowels_o = vowels_u = []"
      ],
      "execution_count": null,
      "outputs": []
    },
    {
      "cell_type": "code",
      "metadata": {
        "id": "Gi7K6W4V5cc1"
      },
      "source": [
        "vowels_i = extractor(VOWELS_I)\n",
        "vowels_e = extractor(VOWELS_E)\n",
        "vowels_a = extractor(VOWELS_A)\n",
        "vowels_o = extractor(VOWELS_O)\n",
        "vowels_u = extractor(VOWELS_U)"
      ],
      "execution_count": null,
      "outputs": []
    },
    {
      "cell_type": "code",
      "metadata": {
        "id": "kLELJjAQXn8k",
        "colab": {
          "base_uri": "https://localhost:8080/",
          "height": 1000
        },
        "outputId": "b248a171-d736-4c99-e164-4b312b274c4f"
      },
      "source": [
        "vowels_i"
      ],
      "execution_count": null,
      "outputs": [
        {
          "output_type": "execute_result",
          "data": {
            "text/plain": [
              "['common_voice_es_19137089i3.png',\n",
              " 'common_voice_es_19137089i0.png',\n",
              " 'common_voice_es_19137089i2.png',\n",
              " 'common_voice_es_19137089i4.png',\n",
              " 'common_voice_es_19137089i1.png',\n",
              " 'common_voice_es_19599286i0.png',\n",
              " 'common_voice_es_19599286i3.png',\n",
              " 'common_voice_es_19599286i2.png',\n",
              " 'common_voice_es_19599286i1.png',\n",
              " 'common_voice_es_19599547i0.png',\n",
              " 'common_voice_es_19599547i4.png',\n",
              " 'common_voice_es_19599547i1.png',\n",
              " 'common_voice_es_19599547i2.png',\n",
              " 'common_voice_es_19599547i3.png',\n",
              " 'common_voice_es_19603226i1.png',\n",
              " 'common_voice_es_19603226i2.png',\n",
              " 'common_voice_es_19603226i4.png',\n",
              " 'common_voice_es_19603226i5.png',\n",
              " 'common_voice_es_19603226i3.png',\n",
              " 'common_voice_es_19603226i0.png',\n",
              " 'common_voice_es_19603840i7.png',\n",
              " 'common_voice_es_19603840i1.png',\n",
              " 'common_voice_es_19603840i5.png',\n",
              " 'common_voice_es_19603840i0.png',\n",
              " 'common_voice_es_19603840i6.png',\n",
              " 'common_voice_es_19603840i4.png',\n",
              " 'common_voice_es_19603840i3.png',\n",
              " 'common_voice_es_19603840i2.png',\n",
              " 'common_voice_es_19604398i5.png',\n",
              " 'common_voice_es_19604398i8.png',\n",
              " 'common_voice_es_19604398i4.png',\n",
              " 'common_voice_es_19604398i0.png',\n",
              " 'common_voice_es_19604398i3.png',\n",
              " 'common_voice_es_19604398i9.png',\n",
              " 'common_voice_es_19604398i1.png',\n",
              " 'common_voice_es_19604398i6.png',\n",
              " 'common_voice_es_19604398i7.png',\n",
              " 'common_voice_es_19604398i2.png',\n",
              " 'common_voice_es_19609149i3.png',\n",
              " 'common_voice_es_19609149i1.png',\n",
              " 'common_voice_es_19609149i2.png',\n",
              " 'common_voice_es_19609149i0.png',\n",
              " 'common_voice_es_19610364i1.png',\n",
              " 'common_voice_es_19610364i2.png',\n",
              " 'common_voice_es_19610364i6.png',\n",
              " 'common_voice_es_19610364i5.png',\n",
              " 'common_voice_es_19610364i0.png',\n",
              " 'common_voice_es_19610364i4.png',\n",
              " 'common_voice_es_19610364i3.png',\n",
              " 'common_voice_es_19612208i1.png',\n",
              " 'common_voice_es_19612208i0.png',\n",
              " 'common_voice_es_19612208i4.png',\n",
              " 'common_voice_es_19612208i5.png',\n",
              " 'common_voice_es_19612208i3.png',\n",
              " 'common_voice_es_19612208i2.png',\n",
              " 'common_voice_es_19617257i0.png',\n",
              " 'common_voice_es_19617257i1.png',\n",
              " 'common_voice_es_19617257i3.png',\n",
              " 'common_voice_es_19617257i4.png',\n",
              " 'common_voice_es_19617257i5.png',\n",
              " 'common_voice_es_19617257i2.png',\n",
              " 'common_voice_es_19617257i6.png',\n",
              " 'common_voice_es_19627046i0.png',\n",
              " 'common_voice_es_19627046i2.png',\n",
              " 'common_voice_es_19627046i1.png',\n",
              " 'common_voice_es_19627046i3.png',\n",
              " 'common_voice_es_19627046i8.png',\n",
              " 'common_voice_es_19627046i6.png',\n",
              " 'common_voice_es_19627046i7.png',\n",
              " 'common_voice_es_19627046i4.png',\n",
              " 'common_voice_es_19627046i5.png',\n",
              " 'common_voice_es_19633019i3.png',\n",
              " 'common_voice_es_19633019i1.png',\n",
              " 'common_voice_es_19633019i4.png',\n",
              " 'common_voice_es_19633019i0.png',\n",
              " 'common_voice_es_19633019i5.png',\n",
              " 'common_voice_es_19633019i6.png',\n",
              " 'common_voice_es_19633019i2.png',\n",
              " 'common_voice_es_19639122i0.png',\n",
              " 'common_voice_es_19639122i1.png',\n",
              " 'common_voice_es_19639122i2.png',\n",
              " 'common_voice_es_19639122i5.png',\n",
              " 'common_voice_es_19639122i3.png',\n",
              " 'common_voice_es_19639122i4.png',\n",
              " 'common_voice_es_19640092i1.png',\n",
              " 'common_voice_es_19640092i0.png',\n",
              " 'common_voice_es_19640092i4.png',\n",
              " 'common_voice_es_19640092i2.png',\n",
              " 'common_voice_es_19640092i3.png',\n",
              " 'common_voice_es_19648987i0.png',\n",
              " 'common_voice_es_19648953i3.png',\n",
              " 'common_voice_es_19648987i1.png',\n",
              " 'common_voice_es_19648987i3.png',\n",
              " 'common_voice_es_19648953i0.png',\n",
              " 'common_voice_es_19648987i2.png',\n",
              " 'common_voice_es_19648953i2.png',\n",
              " 'common_voice_es_19648953i1.png',\n",
              " 'common_voice_es_19661644i1.png',\n",
              " 'common_voice_es_19661644i4.png',\n",
              " 'common_voice_es_19661644i2.png',\n",
              " 'common_voice_es_19661644i6.png',\n",
              " 'common_voice_es_19661644i5.png',\n",
              " 'common_voice_es_19661644i3.png',\n",
              " 'common_voice_es_19661644i0.png',\n",
              " 'common_voice_es_19665777i5.png',\n",
              " 'common_voice_es_19665777i0.png',\n",
              " 'common_voice_es_19665777i1.png',\n",
              " 'common_voice_es_19665777i6.png',\n",
              " 'common_voice_es_19665777i7.png',\n",
              " 'common_voice_es_19665777i9.png',\n",
              " 'common_voice_es_19665777i8.png',\n",
              " 'common_voice_es_19665777i4.png',\n",
              " 'common_voice_es_19665777i2.png',\n",
              " 'common_voice_es_19665777i3.png',\n",
              " 'common_voice_es_19666607i3.png',\n",
              " 'common_voice_es_19666607i6.png',\n",
              " 'common_voice_es_19666607i5.png',\n",
              " 'common_voice_es_19666607i4.png',\n",
              " 'common_voice_es_19666607i2.png',\n",
              " 'common_voice_es_19666607i1.png',\n",
              " 'common_voice_es_19666607i0.png',\n",
              " 'common_voice_es_19666639i1.png',\n",
              " 'common_voice_es_19666639i0.png',\n",
              " 'common_voice_es_19666639i5.png',\n",
              " 'common_voice_es_19666639i3.png',\n",
              " 'common_voice_es_19666639i4.png',\n",
              " 'common_voice_es_19666639i7.png',\n",
              " 'common_voice_es_19666639i6.png',\n",
              " 'common_voice_es_19666639i2.png',\n",
              " 'common_voice_es_19666639i9.png',\n",
              " 'common_voice_es_19666639i8.png',\n",
              " 'common_voice_es_19668686i1.png',\n",
              " 'common_voice_es_19668686i0.png',\n",
              " 'common_voice_es_19685289i1.png',\n",
              " 'common_voice_es_19685289i0.png',\n",
              " 'common_voice_es_19685289i2.png',\n",
              " 'common_voice_es_19694641i2.png',\n",
              " 'common_voice_es_19694641i10.png',\n",
              " 'common_voice_es_19694641i5.png',\n",
              " 'common_voice_es_19694641i1.png',\n",
              " 'common_voice_es_19694641i12.png',\n",
              " 'common_voice_es_19694641i8.png',\n",
              " 'common_voice_es_19694641i0.png',\n",
              " 'common_voice_es_19694641i11.png',\n",
              " 'common_voice_es_19694641i7.png',\n",
              " 'common_voice_es_19694641i9.png',\n",
              " 'common_voice_es_19694641i6.png',\n",
              " 'common_voice_es_19694641i3.png',\n",
              " 'common_voice_es_19694641i4.png',\n",
              " 'common_voice_es_19714910i0.png',\n",
              " 'common_voice_es_19714910i1.png',\n",
              " 'common_voice_es_19714910i3.png',\n",
              " 'common_voice_es_19714910i4.png',\n",
              " 'common_voice_es_19714910i7.png',\n",
              " 'common_voice_es_19714910i9.png',\n",
              " 'common_voice_es_19714910i10.png',\n",
              " 'common_voice_es_19714910i2.png',\n",
              " 'common_voice_es_19714910i5.png',\n",
              " 'common_voice_es_19714910i6.png',\n",
              " 'common_voice_es_19714910i8.png',\n",
              " 'common_voice_es_19719187i2.png',\n",
              " 'common_voice_es_19719187i1.png',\n",
              " 'common_voice_es_19719187i0.png',\n",
              " 'common_voice_es_19719187i3.png',\n",
              " 'common_voice_es_19736616i3.png',\n",
              " 'common_voice_es_19736616i2.png',\n",
              " 'common_voice_es_19736616i1.png',\n",
              " 'common_voice_es_19736616i4.png',\n",
              " 'common_voice_es_19736616i0.png',\n",
              " 'common_voice_es_19912344i2.png',\n",
              " 'common_voice_es_19912344i0.png',\n",
              " 'common_voice_es_19912344i1.png',\n",
              " 'common_voice_es_19912344i3.png',\n",
              " 'common_voice_es_19979932i5.png',\n",
              " 'common_voice_es_19979932i1.png',\n",
              " 'common_voice_es_19979932i2.png',\n",
              " 'common_voice_es_19979932i6.png',\n",
              " 'common_voice_es_19979932i3.png',\n",
              " 'common_voice_es_19979932i7.png',\n",
              " 'common_voice_es_19979932i0.png',\n",
              " 'common_voice_es_19979932i4.png',\n",
              " 'common_voice_es_19979932i8.png',\n",
              " 'common_voice_es_19980867i8.png',\n",
              " 'common_voice_es_19980867i2.png',\n",
              " 'common_voice_es_19980867i9.png',\n",
              " 'common_voice_es_19980867i6.png',\n",
              " 'common_voice_es_19980867i0.png',\n",
              " 'common_voice_es_19980867i1.png',\n",
              " 'common_voice_es_19980867i3.png',\n",
              " 'common_voice_es_19980867i4.png',\n",
              " 'common_voice_es_19980867i5.png',\n",
              " 'common_voice_es_19980867i7.png',\n",
              " 'common_voice_es_20000941i5.png',\n",
              " 'common_voice_es_20000941i3.png',\n",
              " 'common_voice_es_20000941i6.png',\n",
              " 'common_voice_es_20000941i2.png',\n",
              " 'common_voice_es_20000941i9.png',\n",
              " 'common_voice_es_20000941i1.png',\n",
              " 'common_voice_es_20000941i10.png',\n",
              " 'common_voice_es_20000941i0.png',\n",
              " 'common_voice_es_20000941i7.png',\n",
              " 'common_voice_es_20000941i8.png',\n",
              " 'common_voice_es_20000941i4.png',\n",
              " 'common_voice_es_20068425i0.png',\n",
              " 'common_voice_es_20068425i2.png',\n",
              " 'common_voice_es_20068425i1.png']"
            ]
          },
          "metadata": {
            "tags": []
          },
          "execution_count": 7
        }
      ]
    },
    {
      "cell_type": "markdown",
      "metadata": {
        "id": "E0nSOGGZMPxy"
      },
      "source": [
        "#Recorte de imágenes"
      ]
    },
    {
      "cell_type": "markdown",
      "metadata": {
        "id": "0qihZXjTZ_Gy"
      },
      "source": [
        "Aplicar recortes"
      ]
    },
    {
      "cell_type": "code",
      "metadata": {
        "id": "j8NvXf30CkQp"
      },
      "source": [
        "cortador(VOWELS_I, vowels_i, CUT_VOWELS_I)\n",
        "cortador(VOWELS_E, vowels_e, CUT_VOWELS_E)\n",
        "cortador(VOWELS_A, vowels_a, CUT_VOWELS_A)\n",
        "cortador(VOWELS_O, vowels_o, CUT_VOWELS_O)\n",
        "cortador(VOWELS_U, vowels_u, CUT_VOWELS_U)"
      ],
      "execution_count": null,
      "outputs": []
    },
    {
      "cell_type": "markdown",
      "metadata": {
        "id": "XHHfpMhFiwkt"
      },
      "source": [
        "#División de datos *Train-Test*"
      ]
    },
    {
      "cell_type": "markdown",
      "metadata": {
        "id": "HzhUCFHGNZ0R"
      },
      "source": [
        "Extraer los nombres de los archivos recortados"
      ]
    },
    {
      "cell_type": "code",
      "metadata": {
        "id": "p7SgwqAYMaqA"
      },
      "source": [
        "\"\"\"\n",
        "vowels_i = extractor(CUT_VOWELS_I)\n",
        "vowels_e = extractor(CUT_VOWELS_E)\n",
        "vowels_a = extractor(CUT_VOWELS_A)\n",
        "vowels_o = extractor(CUT_VOWELS_O)\n",
        "vowels_u = extractor(CUT_VOWELS_U)"
      ],
      "execution_count": null,
      "outputs": []
    },
    {
      "cell_type": "markdown",
      "metadata": {
        "id": "-4iP2tdbNiJ9"
      },
      "source": [
        "Mover imágenes a carpetas *Train* y *Test*"
      ]
    },
    {
      "cell_type": "code",
      "metadata": {
        "id": "0PDu00TJMOgN"
      },
      "source": [
        "\"\"\"\n",
        "division_train_test(CUT_VOWELS_I, vowels_i, TRAIN_VOWELS_I, TEST_VOWELS_I)\n",
        "division_train_test(CUT_VOWELS_E, vowels_e, TRAIN_VOWELS_E, TEST_VOWELS_E)\n",
        "division_train_test(CUT_VOWELS_A, vowels_a, TRAIN_VOWELS_A, TEST_VOWELS_A)\n",
        "division_train_test(CUT_VOWELS_O, vowels_o, TRAIN_VOWELS_O, TEST_VOWELS_O)\n",
        "division_train_test(CUT_VOWELS_U, vowels_u, TRAIN_VOWELS_U, TEST_VOWELS_U)"
      ],
      "execution_count": null,
      "outputs": []
    }
  ]
}